{
 "cells": [
  {
   "cell_type": "markdown",
   "id": "cfa306eb",
   "metadata": {},
   "source": [
    "# Exercici 1\n",
    "\n",
    "###### Crea una funció que donat un Array d’una dimensió, et faci un resum estadístic bàsic de les dades. Si detecta que l’array té més d’una dimensió, ha de mostrar un missatge d’error.\n",
    "\n",
    "###### Definimos una función en la que primero comprobamos que el array no tiene más de una dimensión. A continuación construimos un string que incluye el valor máximo, mínimo, media y variación estándar, donde hemos limitado los decimales a 4."
   ]
  },
  {
   "cell_type": "code",
   "execution_count": 1,
   "id": "22966e80",
   "metadata": {},
   "outputs": [
    {
     "data": {
      "text/plain": [
       "\"El valor màxim de l'array és 99, el valor mínim és 5, la mitja és 53.7 i la variació estàndard és 25.1736\""
      ]
     },
     "execution_count": 1,
     "metadata": {},
     "output_type": "execute_result"
    }
   ],
   "source": [
    "import numpy as np\n",
    "from numpy import random\n",
    "\n",
    "def stat_array(a):\n",
    "    if a.ndim > 1 : resultat = (\"L'array ha de ser de 1 dimensió\")\n",
    "    else: resultat = (f\"El valor màxim de l'array és {a.max()}, el valor mínim és {a.min()}, la mitja és {a.mean()} i la variació estàndard és {round(a.std(),4)}\")\n",
    "    return resultat\n",
    "    \n",
    "a=random.randint(100, size=(20))\n",
    "stat_array(a)"
   ]
  },
  {
   "cell_type": "markdown",
   "id": "d6842e9f",
   "metadata": {},
   "source": [
    "# Exercici 2\n",
    "\n",
    "###### Crea una funció que et generi un quadrat NxN de nombres aleatoris entre el 0 i el 100.\n",
    "\n",
    "###### Para crear el array utilizamos la función randit indicando el valor máximo + 1 y los valores deseados. Llamamos a la función creada con el valor solicitado al usuario para crear el array."
   ]
  },
  {
   "cell_type": "code",
   "execution_count": 2,
   "id": "9e60a8c5",
   "metadata": {},
   "outputs": [
    {
     "name": "stdout",
     "output_type": "stream",
     "text": [
      "Introdueix el valor de N: 5\n"
     ]
    },
    {
     "data": {
      "text/plain": [
       "array([[21,  0, 97,  7, 28],\n",
       "       [58, 28, 87, 61, 30],\n",
       "       [65, 68,  3, 59, 81],\n",
       "       [14, 97, 30,  5, 87],\n",
       "       [86, 39, 75, 22, 10]])"
      ]
     },
     "execution_count": 2,
     "metadata": {},
     "output_type": "execute_result"
    }
   ],
   "source": [
    "def quadrat_NN(n):\n",
    "    resultat = (random.randint(101, size=(n,n)))   \n",
    "    return resultat\n",
    "\n",
    "quadrat_NN(int(input(\"Introdueix el valor de N: \"))) "
   ]
  },
  {
   "cell_type": "markdown",
   "id": "7a511f5e",
   "metadata": {},
   "source": [
    "# Exercici 3\n",
    "\n",
    "###### Crea una funció que donada una taula de dues dimensions (NxM), et calculi els totals per fila i els totals per columna.\n",
    "\n",
    "###### Reutilizo la función creada en el ejercicio anterior para crear el array NxM, creo una nueva función para retornar un string con los valores solicitados y llamo a esta última función, utilizando cómo valor el resultado de la primera función."
   ]
  },
  {
   "cell_type": "code",
   "execution_count": 3,
   "id": "b90a86ee",
   "metadata": {},
   "outputs": [
    {
     "name": "stdout",
     "output_type": "stream",
     "text": [
      "Introdueix el valor de N: 5\n",
      "Introdueix el valor de M: 6\n"
     ]
    },
    {
     "data": {
      "text/plain": [
       "'La suma de les files és [355 264 172 354 296] i la suma de les columnes és [150 347 326 176 245 197]'"
      ]
     },
     "execution_count": 3,
     "metadata": {},
     "output_type": "execute_result"
    }
   ],
   "source": [
    "def quadrat_NM(n,m):\n",
    "    resultat = (random.randint(101, size=(n,m)))   \n",
    "    return resultat\n",
    "\n",
    "def sum_arr(a):\n",
    "    suma = (f\"La suma de les files és {np.sum(a,axis=1)} i la suma de les columnes és {np.sum(a,axis=0)}\")\n",
    "    return suma \n",
    "                \n",
    "sum_arr(quadrat_NM(int(input(\"Introdueix el valor de N: \")),int(input(\"Introdueix el valor de M: \"))) )"
   ]
  },
  {
   "cell_type": "markdown",
   "id": "e0093945",
   "metadata": {},
   "source": [
    "# Exercici 4\n",
    "\n",
    "###### Implementa manualment una funció que calculi el coeficient de correlació. Informa-te'n sobre els seus usos i interpretació.\n",
    "\n",
    "###### La fórmula para calcular el coeficiente de correlacion entre 2 arrays es el resultado del cociente de la covarianza de ambos por la multiplicación de la desviación típica de ambos. Definimos una función que lo calcule y reutilizo la de creación de un array de 1 dimensión para pasar los argumentos."
   ]
  },
  {
   "cell_type": "code",
   "execution_count": 21,
   "id": "fdc076bb",
   "metadata": {},
   "outputs": [
    {
     "name": "stdout",
     "output_type": "stream",
     "text": [
      "Introdueix el número de elements dels arrays: 20\n",
      "El coeficient de correlació és: -0.20751087\n"
     ]
    },
    {
     "data": {
      "text/plain": [
       "array([[ 1.        , -0.20751087],\n",
       "       [-0.20751087,  1.        ]])"
      ]
     },
     "execution_count": 21,
     "metadata": {},
     "output_type": "execute_result"
    }
   ],
   "source": [
    "def coeficient_correlacio(a,b):\n",
    "    coef=(np.mean(a*b)-(np.mean(a)*np.mean(b)))/(np.std(a)*np.std(b))\n",
    "    return coef\n",
    "\n",
    "def array(n):\n",
    "    resultat = (random.randint(11, size=(n)))   \n",
    "    return resultat\n",
    "\n",
    "n = int(input(\"Introdueix el número de elements dels arrays: \"))\n",
    "\n",
    "# guardo los arrys creados en 2 variables para poder reutilizarlos en la comprobación\n",
    "\n",
    "a = array(n)\n",
    "b = array(n)\n",
    "\n",
    "print ('El coeficient de correlació és:',round(coeficient_correlacio(a,b),8))\n",
    "\n",
    "# Comprobamos con los mismos arrays que el valor es correcto\n",
    "\n",
    "np.corrcoef(a,b)"
   ]
  },
  {
   "cell_type": "code",
   "execution_count": null,
   "id": "2ef1cd11",
   "metadata": {},
   "outputs": [],
   "source": []
  }
 ],
 "metadata": {
  "kernelspec": {
   "display_name": "Python 3 (ipykernel)",
   "language": "python",
   "name": "python3"
  },
  "language_info": {
   "codemirror_mode": {
    "name": "ipython",
    "version": 3
   },
   "file_extension": ".py",
   "mimetype": "text/x-python",
   "name": "python",
   "nbconvert_exporter": "python",
   "pygments_lexer": "ipython3",
   "version": "3.10.9"
  }
 },
 "nbformat": 4,
 "nbformat_minor": 5
}
